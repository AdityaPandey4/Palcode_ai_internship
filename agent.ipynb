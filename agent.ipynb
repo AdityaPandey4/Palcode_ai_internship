{
 "cells": [
  {
   "cell_type": "code",
   "execution_count": 1,
   "metadata": {},
   "outputs": [],
   "source": [
    "from crewai import Agent, Task, Crew, LLM"
   ]
  },
  {
   "cell_type": "code",
   "execution_count": null,
   "metadata": {},
   "outputs": [],
   "source": [
    "import os \n",
    "os.environ[\"GEMINI_API_KEY\"] = \"API_KEY\"\n",
    "# defining the LLM model for Agents\n",
    "\n",
    "# llm = LLM(\n",
    "#     model=\"gemini/gemini-2.0-flash\",\n",
    "# )\n"
   ]
  },
  {
   "cell_type": "code",
   "execution_count": 3,
   "metadata": {},
   "outputs": [],
   "source": [
    "Leave_approval_agent = Agent(\n",
    "    role= \"Gemini Leave Request Processor Expert\",\n",
    "    goal= \"Extract leave type, start/end dates, reason, and user identifier from a natural language leave request.\",\n",
    "    backstory = \"You are an expert in natural language processing focused on HR tasks.\"\n",
    "                \"Your mission is to parse and accurately extract leave details from user {request}\",\n",
    "    verbose= True,\n",
    "    allow_delegations= False,\n",
    "    llm=\"gemini/gemini-2.0-flash\",\n",
    "\n",
    "                \n",
    ")"
   ]
  },
  {
   "cell_type": "code",
   "execution_count": 4,
   "metadata": {},
   "outputs": [],
   "source": [
    "process_leave_request = Task(\n",
    "    description= \"Parse the natural language leave request from {request} text to extract the following:\"\n",
    "    \"- Leave type (e.g., Sick, Vacation, etc.)\"\n",
    "    \"- Start date\"\n",
    "    \"- End date\"\n",
    "    \"- Reason for leave\"\n",
    "    \"- User identifier\",\n",
    "    expected_output = \"A JSON object with keys: leave_type, start_date, end_date, reason, user_id.\",\n",
    "    agent= Leave_approval_agent,\n",
    "    \n",
    ")\n"
   ]
  },
  {
   "cell_type": "code",
   "execution_count": 5,
   "metadata": {},
   "outputs": [],
   "source": [
    "leave_approval_crew = Crew(\n",
    "    agents= [Leave_approval_agent],\n",
    "    tasks= [process_leave_request],\n",
    "    verbose= True,\n",
    ")"
   ]
  },
  {
   "cell_type": "code",
   "execution_count": 6,
   "metadata": {},
   "outputs": [
    {
     "name": "stdout",
     "output_type": "stream",
     "text": [
      "\u001b[1m\u001b[95m# Agent:\u001b[00m \u001b[1m\u001b[92mGemini Leave Request Processor Expert\u001b[00m\n",
      "\u001b[95m## Task:\u001b[00m \u001b[92mParse the natural language leave request from I need sick leave from tomorrow due to a medical treatment, from 11.11.25 to 12.12.25. text to extract the following:- Leave type (e.g., Sick, Vacation, etc.)- Start date- End date- Reason for leave- User identifier\u001b[00m\n",
      "\n",
      "\u001b[1;31mProvider List: https://docs.litellm.ai/docs/providers\u001b[0m\n",
      "\n",
      "\n",
      "\n",
      "\u001b[1m\u001b[95m# Agent:\u001b[00m \u001b[1m\u001b[92mGemini Leave Request Processor Expert\u001b[00m\n",
      "\u001b[95m## Final Answer:\u001b[00m \u001b[92m\n",
      "```json\n",
      "{\n",
      "  \"leave_type\": \"Sick leave\",\n",
      "  \"start_date\": \"11.11.25\",\n",
      "  \"end_date\": \"12.12.25\",\n",
      "  \"reason\": \"medical treatment\",\n",
      "  \"user_id\": null\n",
      "}\n",
      "```\u001b[00m\n",
      "\n",
      "\n",
      "\n",
      "\u001b[1;31mProvider List: https://docs.litellm.ai/docs/providers\u001b[0m\n",
      "\n"
     ]
    },
    {
     "data": {
      "text/plain": [
       "CrewOutput(raw='```json\\n{\\n  \"leave_type\": \"Sick leave\",\\n  \"start_date\": \"11.11.25\",\\n  \"end_date\": \"12.12.25\",\\n  \"reason\": \"medical treatment\",\\n  \"user_id\": null\\n}\\n```', pydantic=None, json_dict=None, tasks_output=[TaskOutput(description='Parse the natural language leave request from I need sick leave from tomorrow due to a medical treatment, from 11.11.25 to 12.12.25. text to extract the following:- Leave type (e.g., Sick, Vacation, etc.)- Start date- End date- Reason for leave- User identifier', name=None, expected_output='A JSON object with keys: leave_type, start_date, end_date, reason, user_id.', summary='Parse the natural language leave request from I need sick...', raw='```json\\n{\\n  \"leave_type\": \"Sick leave\",\\n  \"start_date\": \"11.11.25\",\\n  \"end_date\": \"12.12.25\",\\n  \"reason\": \"medical treatment\",\\n  \"user_id\": null\\n}\\n```', pydantic=None, json_dict=None, agent='Gemini Leave Request Processor Expert', output_format=<OutputFormat.RAW: 'raw'>)], token_usage=UsageMetrics(total_tokens=431, prompt_tokens=315, cached_prompt_tokens=0, completion_tokens=116, successful_requests=1))"
      ]
     },
     "execution_count": 6,
     "metadata": {},
     "output_type": "execute_result"
    }
   ],
   "source": [
    "request =\"I need sick leave from tomorrow due to a medical treatment, from 11.11.25 to 12.12.25.\"\n",
    "\n",
    "leave_approval_crew.kickoff(inputs={\"request\": request})"
   ]
  },
  {
   "cell_type": "code",
   "execution_count": null,
   "metadata": {},
   "outputs": [],
   "source": []
  }
 ],
 "metadata": {
  "kernelspec": {
   "display_name": "tria_website_agent",
   "language": "python",
   "name": "python3"
  },
  "language_info": {
   "codemirror_mode": {
    "name": "ipython",
    "version": 3
   },
   "file_extension": ".py",
   "mimetype": "text/x-python",
   "name": "python",
   "nbconvert_exporter": "python",
   "pygments_lexer": "ipython3",
   "version": "3.10.16"
  }
 },
 "nbformat": 4,
 "nbformat_minor": 2
}
